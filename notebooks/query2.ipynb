{
 "cells": [
  {
   "cell_type": "code",
   "execution_count": null,
   "id": "dc892b24",
   "metadata": {},
   "outputs": [],
   "source": [
    "import configparser\n",
    "#from telethon import TelegramClient, events, sync\n",
    "\n",
    "# Reading Configs\n",
    "config = configparser.ConfigParser()\n",
    "config.read(\".env\")\n",
    "\n",
    "# Setting configuration values\n",
    "api_id = config['Telegram']['api_id']\n",
    "api_hash = config['Telegram']['api_hash']\n",
    "\n",
    "api_hash = str(api_hash)\n",
    "\n",
    "phone = config['Telegram']['phone']\n",
    "username = config['Telegram']['username']"
   ]
  },
  {
   "cell_type": "code",
   "execution_count": null,
   "id": "98b2fd17",
   "metadata": {},
   "outputs": [],
   "source": [
    "from telethon.sync import TelegramClient\n",
    "\n",
    "async with TelegramClient(username, api_id, api_hash) as client:\n",
    "    async for message in client.iter_messages(''):\n",
    "        print(message.sender_id, ':', message.text)"
   ]
  },
  {
   "cell_type": "code",
   "execution_count": null,
   "id": "69acccc7",
   "metadata": {},
   "outputs": [],
   "source": []
  }
 ],
 "metadata": {
  "kernelspec": {
   "display_name": "Python 3 (ipykernel)",
   "language": "python",
   "name": "python3"
  },
  "language_info": {
   "codemirror_mode": {
    "name": "ipython",
    "version": 3
   },
   "file_extension": ".py",
   "mimetype": "text/x-python",
   "name": "python",
   "nbconvert_exporter": "python",
   "pygments_lexer": "ipython3",
   "version": "3.8.1"
  }
 },
 "nbformat": 4,
 "nbformat_minor": 5
}
