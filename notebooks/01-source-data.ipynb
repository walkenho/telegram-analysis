{
 "cells": [
  {
   "cell_type": "markdown",
   "id": "dc892b24",
   "metadata": {
    "pycharm": {
     "name": "#%% md\n"
    }
   },
   "source": [
    "# Telegram Analysis - Getting the Data\n",
    "\n",
    "This notebooks demonstrates how to query Telegram for different types of data:\n",
    "* groups you are a member of\n",
    "* participants of these groups\n",
    "* messages sent in these groups, including action messages (like members joining or leaving)\n",
    "\n",
    "As always we start with importing libraries. We also load the environmental variables required to\n",
    "log in to your Telegram account."
   ]
  },
  {
   "cell_type": "code",
   "execution_count": null,
   "outputs": [],
   "source": [
    "from pathlib import Path\n",
    "import configparser\n",
    "\n",
    "from telethon.sync import TelegramClient"
   ],
   "metadata": {
    "collapsed": false,
    "pycharm": {
     "name": "#%%\n"
    }
   }
  },
  {
   "cell_type": "code",
   "execution_count": null,
   "outputs": [],
   "source": [
    "# Reading Configs\n",
    "config = configparser.ConfigParser()\n",
    "config.read(Path.cwd().parent/\".env\")\n",
    "\n",
    "# Setting configuration values\n",
    "api_id = config['Telegram']['api_id']\n",
    "api_hash = config['Telegram']['api_hash']\n",
    "\n",
    "api_hash = str(api_hash)\n",
    "\n",
    "phone = config['Telegram']['phone']\n",
    "username = config['Telegram']['username']"
   ],
   "metadata": {
    "collapsed": false,
    "pycharm": {
     "name": "#%%\n"
    }
   }
  },
  {
   "cell_type": "markdown",
   "source": [
    "We query Telegram for all of the dialogs you are a member of. This includes group chats as well as\n",
    "private conversations.\n",
    "\n",
    "You can use the `.to_dict()` function to convert methods to dictionaries. Not as computationally clean,\n",
    "but easier to explore when you don't know much about the data structure."
   ],
   "metadata": {
    "collapsed": false,
    "pycharm": {
     "name": "#%% md\n"
    }
   }
  },
  {
   "cell_type": "code",
   "execution_count": null,
   "id": "69acccc7",
   "metadata": {},
   "outputs": [],
   "source": [
    "dialogs = []\n",
    "async with TelegramClient(username, api_id, api_hash) as client:\n",
    "    async for dialog in client.iter_dialogs():\n",
    "        dialogs.append(dialog.to_dict())\n",
    "\n",
    "dialogs"
   ]
  },
  {
   "cell_type": "markdown",
   "source": [
    "Next we filter for only the dialogues we are interested in. Here I filter by some part of the name."
   ],
   "metadata": {
    "collapsed": false,
    "pycharm": {
     "name": "#%% md\n"
    }
   }
  },
  {
   "cell_type": "code",
   "execution_count": null,
   "outputs": [],
   "source": [
    "dialog_names_of_interest = [d.get('name') for d in dialogs if 'red' in d.get('name').lower()]\n",
    "dialog_names_of_interest"
   ],
   "metadata": {
    "collapsed": false,
    "pycharm": {
     "name": "#%%\n"
    }
   }
  },
  {
   "cell_type": "markdown",
   "source": [
    "Next we collect all the messages from all of the dialogs we are interested in. You can collect by either name\n",
    "or id.\n",
    "\n",
    "We convert the telethon-native instances to dictionaries and collect all of the data into a single dictionary\n",
    "for ease of processing."
   ],
   "metadata": {
    "collapsed": false,
    "pycharm": {
     "name": "#%% md\n"
    }
   }
  },
  {
   "cell_type": "code",
   "execution_count": null,
   "outputs": [],
   "source": [
    "messages_of_interest = {}\n",
    "for dialog in dialog_names_of_interest:\n",
    "    ms = []\n",
    "    async with TelegramClient(username, api_id, api_hash) as client:\n",
    "        async for message in client.iter_messages(dialog):\n",
    "            ms.append(message.to_dict())\n",
    "    messages_of_interest[dialog] = ms"
   ],
   "metadata": {
    "collapsed": false,
    "pycharm": {
     "name": "#%%\n"
    }
   }
  },
  {
   "cell_type": "markdown",
   "source": [
    "We do the same for participant information."
   ],
   "metadata": {
    "collapsed": false,
    "pycharm": {
     "name": "#%% md\n"
    }
   }
  },
  {
   "cell_type": "code",
   "execution_count": null,
   "outputs": [],
   "source": [
    "participants = {}\n",
    "for dialog in dialog_names_of_interest:\n",
    "    ps = []\n",
    "    async with TelegramClient(username, api_id, api_hash) as client:\n",
    "        async for participant in client.iter_participants(dialog):\n",
    "            ps.append(participant.to_dict())\n",
    "    participants[dialog] = ps.copy()"
   ],
   "metadata": {
    "collapsed": false,
    "pycharm": {
     "name": "#%%\n"
    }
   }
  },
  {
   "cell_type": "markdown",
   "source": [
    "One of the aspects I am particularly interested in is the joining history. When did which users join?\n",
    "The messages contain a field \"action\". \"action\" is empty for normal messages, but tells us about these\n",
    "type of events."
   ],
   "metadata": {
    "collapsed": false,
    "pycharm": {
     "name": "#%% md\n"
    }
   }
  },
  {
   "cell_type": "code",
   "execution_count": null,
   "outputs": [],
   "source": [
    "# I am interested in the \"joined\" events.\n",
    "# These can be obtained by filtering for the messages with a defined action\n",
    "print(f\"Analyzing joining behaviour for group {dialog_names_of_interest[1]}\")\n",
    "for i, m in enumerate(messages_of_interest[dialog_names_of_interest[1]]):\n",
    "    if m.get('action') is not None:\n",
    "        print(i, m.get('date'), m.get('action'), m.get('action').get('users'))"
   ],
   "metadata": {
    "collapsed": false,
    "pycharm": {
     "name": "#%%\n"
    }
   }
  }
 ],
 "metadata": {
  "kernelspec": {
   "display_name": "Python 3 (ipykernel)",
   "language": "python",
   "name": "python3"
  },
  "language_info": {
   "codemirror_mode": {
    "name": "ipython",
    "version": 3
   },
   "file_extension": ".py",
   "mimetype": "text/x-python",
   "name": "python",
   "nbconvert_exporter": "python",
   "pygments_lexer": "ipython3",
   "version": "3.8.1"
  }
 },
 "nbformat": 4,
 "nbformat_minor": 5
}